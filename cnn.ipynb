{
 "cells": [
  {
   "cell_type": "code",
   "execution_count": 1,
   "metadata": {},
   "outputs": [],
   "source": [
    "from engine import Value\n",
    "from mlp import MLP, Layer, Neuron\n",
    "import numpy as np\n",
    "import random"
   ]
  },
  {
   "cell_type": "code",
   "execution_count": 2,
   "metadata": {},
   "outputs": [
    {
     "name": "stdout",
     "output_type": "stream",
     "text": [
      "[[4, 5, 4, 4, 4], [4, 5, 4, 4, 4], [4, 5, 4, 4, 4], [4, 5, 4, 4, 4], [4, 5, 4, 4, 4]]\n"
     ]
    }
   ],
   "source": [
    "\n",
    "# 5X5 image\n",
    "image = [[4,5,4,4,4],\n",
    "         [4,5,4,4,4],\n",
    "         [4,5,4,4,4],\n",
    "         [4,5,4,4,4],\n",
    "         [4,5,4,4,4]]\n",
    "\n",
    "print(image)\n",
    "\n",
    "# image = np.random.randn(5,5,1)\n",
    "\n",
    "# print(image, image.shape)"
   ]
  },
  {
   "cell_type": "code",
   "execution_count": 3,
   "metadata": {},
   "outputs": [
    {
     "name": "stdout",
     "output_type": "stream",
     "text": [
      "[[3, 1], [4, 5]]\n"
     ]
    }
   ],
   "source": [
    "# 2X2 filter\n",
    "filter = [[3,1],\n",
    "          [4,5]]\n",
    "\n",
    "print(filter)\n",
    "\n",
    "# filter = np.random.randn(2,2)\n",
    "\n",
    "# print(filter, filter.shape)"
   ]
  },
  {
   "cell_type": "code",
   "execution_count": 4,
   "metadata": {},
   "outputs": [],
   "source": [
    "# # conv operation\n",
    "\n",
    "# def conv(image, filter):\n",
    "#     final_image_size = int(image.shape[0] - filter.shape[0] + 1)\n",
    "#     # print(final_image_size, type(final_image_size))\n",
    "#     final_image = np.zeros([final_image_size, final_image_size])\n",
    "#     final_image = [[0 for x in range(fina)] for y in range(final_image_size)] \n",
    "    \n",
    "#     for i in range(final_image_size):\n",
    "#         # print(i)\n",
    "#         for j in range(final_image_size):\n",
    "#             # Apply the filter to the current position\n",
    "#             for x in range(filter.shape[0]):\n",
    "#                 for y in range(filter.shape[1]):\n",
    "#                     # print(final_image)\n",
    "#                     if i+x < image.shape[0] and j+y < image.shape[1]:\n",
    "#                         final_image[i][j] += image[i+x][j+y] * filter[x][y]\n",
    "            \n",
    "#     return final_image\n",
    "\n",
    "# conv(image, filter)"
   ]
  },
  {
   "cell_type": "code",
   "execution_count": 5,
   "metadata": {},
   "outputs": [
    {
     "data": {
      "text/plain": [
       "[4, 5, 4, 4, 4, 4, 5, 4, 4, 4, 4, 5, 4, 4, 4, 4, 5, 4, 4, 4, 4, 5, 4, 4, 4]"
      ]
     },
     "execution_count": 5,
     "metadata": {},
     "output_type": "execute_result"
    }
   ],
   "source": [
    "import time\n",
    "\n",
    "def flatten(image, image_size):\n",
    "    height = image_size\n",
    "    width = image_size\n",
    "\n",
    "    flat_array = []\n",
    "\n",
    "    flat_array = [0]*(height*width)\n",
    "    cnt = 0\n",
    "\n",
    "    for i in range(height):\n",
    "        for j in range(width):\n",
    "            flat_array[cnt] = image[i][j]\n",
    "            cnt += 1\n",
    "\n",
    "    return flat_array\n",
    "\n",
    "flatten(image, 5)"
   ]
  },
  {
   "cell_type": "code",
   "execution_count": 6,
   "metadata": {},
   "outputs": [],
   "source": [
    "def mse_loss(ypred, y_train):\n",
    "    return (ypred - y_train)**2"
   ]
  },
  {
   "cell_type": "code",
   "execution_count": 7,
   "metadata": {},
   "outputs": [],
   "source": [
    "# input_image = np.array([[4,5,4,4,4],\n",
    "#          [4,5,4,4,4],\n",
    "#          [4,5,4,4,4],\n",
    "#          [4,5,4,4,4],\n",
    "#          [4,5,4,4,4]])\n",
    "\n",
    "# true_label = 1.0\n",
    "\n",
    "\n",
    "# filter = [[Value(0.5),Value(0.5)],\n",
    "#           [Value(0.5),Value(0.5)]]\n",
    "\n",
    "# fc_model = MLP(16, [16, 16, 1])\n",
    "\n",
    "# for i in range(3):\n",
    "\n",
    "#     convoluted_image = conv(input_image, 5, filter, 2)\n",
    "#     flattened_image = flatten(convoluted_image, 4)\n",
    "    \n",
    "#     outputs = fc_model(flattened_image)\n",
    "\n",
    "#     print(filter, \"\\n\")\n",
    "\n",
    "#     loss = mse_loss(outputs, true_label)\n",
    "\n",
    "#     # zero_grad\n",
    "#     for p in fc_model.parameters():\n",
    "#         p.grad = 0.0\n",
    "\n",
    "#     loss.backward()\n",
    "\n",
    "#     # update\n",
    "#     for p in fc_model.parameters():\n",
    "#         p.data += -0.1 * p.grad\n",
    "\n",
    "#     print(\"loss:\", loss, \"\\n\")"
   ]
  },
  {
   "cell_type": "code",
   "execution_count": 8,
   "metadata": {},
   "outputs": [],
   "source": [
    "class Conv2d:\n",
    "    def __init__(self, image_size, filter_size, pool='None'):\n",
    "        self.image_size = image_size\n",
    "        self.filter_size = filter_size\n",
    "        self.filter = [[Value(5.0, label='conv') for _ in range(filter_size)] for _ in range(filter_size)]\n",
    "        self.pool = pool\n",
    "\n",
    "    def __call__(self, image):\n",
    "        final_image_size = int(self.image_size - self.filter_size + 1)\n",
    "        # print(final_image_size, type(final_image_size))\n",
    "        final_image = np.zeros([final_image_size, final_image_size])\n",
    "        final_image = [[Value(0.0) for x in range(final_image_size)] for y in range(final_image_size)] \n",
    "        \n",
    "        for i in range(final_image_size):\n",
    "            for j in range(final_image_size):\n",
    "                \n",
    "                for x in range(self.filter_size):\n",
    "                    for y in range(self.filter_size):\n",
    "\n",
    "                        if i+x < self.image_size and j+y < self.image_size:\n",
    "                            final_image[i][j] += (image[i+x][j+y] * self.filter[x][y])\n",
    "        print(final_image)\n",
    "        if self.pool == 'Max':\n",
    "            pooled_image = [[Value(0.0) for x in range(final_image_size//2)] for y in range(final_image_size//2)] \n",
    "            for i in range(final_image_size//2):\n",
    "                for j in range(final_image_size//2):\n",
    "                    max_num = -1e9\n",
    "                    for x in range(2):\n",
    "                        for y in range(2):\n",
    "\n",
    "                            if i+x < self.image_size and j+y < self.image_size:\n",
    "                                pooled_image[i][j] = max(max_num, final_image[i][j])\n",
    "        \n",
    "\n",
    "        return final_image\n",
    "    \n",
    "    def parameters(self):\n",
    "        # print(self.filter)\n",
    "        o = flatten(self.filter, self.filter_size)\n",
    "        # all_grads = [x.grad for x in o]\n",
    "        # print(all_grads)\n",
    "        return o\n",
    "\n",
    "# conv(image, 5, filter, 2)"
   ]
  },
  {
   "cell_type": "code",
   "execution_count": 9,
   "metadata": {},
   "outputs": [],
   "source": [
    "import torch.nn as nn\n",
    "import torch.nn.functional as F\n",
    "\n",
    "# net = Net()\n",
    "\n",
    "class CNN:\n",
    "    def __init__(self):\n",
    "        self.conv1 = Conv2d(5, 2)\n",
    "        self.fc = MLP(2, [6,6,1])\n",
    "    \n",
    "    def __call__(self, input_image):\n",
    "        outputs = self.conv1(input_image)\n",
    "        outputs = flatten(outputs, 4)\n",
    "        \n",
    "        outputs = self.fc(outputs)\n",
    "        return outputs\n",
    "    \n",
    "    def parameters(self):\n",
    "        # print(self.conv1.parameters())\n",
    "        return self.fc.parameters() + self.conv1.parameters()"
   ]
  },
  {
   "cell_type": "code",
   "execution_count": 17,
   "metadata": {},
   "outputs": [
    {
     "name": "stdout",
     "output_type": "stream",
     "text": [
      "Epoch 0, Loss: 3.948370242039453\n",
      "Epoch 1, Loss: 3.940797887082048\n",
      "Epoch 2, Loss: 3.930759833880115\n",
      "Epoch 3, Loss: 3.9168857977113136\n",
      "Epoch 4, Loss: 3.8966200913655125\n"
     ]
    }
   ],
   "source": [
    "image = [[4,5,4,4,4],\n",
    "         [4,5,4,4,4],\n",
    "         [4,5,4,4,4],\n",
    "         [4,5,4,4,4],\n",
    "         [4,5,4,4,4]]\n",
    "\n",
    "label = 1.0\n",
    "\n",
    "cnn_model = CNN()\n",
    "\n",
    "for i in range(5):\n",
    "    \n",
    "    #forward\n",
    "    outputs = cnn_model(image)\n",
    "    loss = mse_loss(outputs, label)\n",
    "\n",
    "    # zero_grad\n",
    "    for p in cnn_model.parameters():\n",
    "        p.grad = 0.0\n",
    "\n",
    "    loss.backward()\n",
    "\n",
    "    # update\n",
    "    for p in cnn_model.parameters():\n",
    "        p.data += -0.1 * p.grad\n",
    "\n",
    "    print(f\"Epoch {i}, Loss: {loss.data}\")"
   ]
  }
 ],
 "metadata": {
  "kernelspec": {
   "display_name": "venv",
   "language": "python",
   "name": "python3"
  },
  "language_info": {
   "codemirror_mode": {
    "name": "ipython",
    "version": 3
   },
   "file_extension": ".py",
   "mimetype": "text/x-python",
   "name": "python",
   "nbconvert_exporter": "python",
   "pygments_lexer": "ipython3",
   "version": "3.11.9"
  }
 },
 "nbformat": 4,
 "nbformat_minor": 2
}
