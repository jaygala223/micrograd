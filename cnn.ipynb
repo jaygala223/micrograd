{
 "cells": [
  {
   "cell_type": "code",
   "execution_count": 70,
   "metadata": {},
   "outputs": [],
   "source": [
    "from engine import Value\n",
    "from mlp import MLP, Layer, Neuron\n",
    "import numpy as np\n",
    "import random"
   ]
  },
  {
   "cell_type": "code",
   "execution_count": 26,
   "metadata": {},
   "outputs": [
    {
     "name": "stdout",
     "output_type": "stream",
     "text": [
      "[[4 5 4 4 4]\n",
      " [4 5 4 4 4]\n",
      " [4 5 4 4 4]\n",
      " [4 5 4 4 4]\n",
      " [4 5 4 4 4]]\n"
     ]
    }
   ],
   "source": [
    "\n",
    "# 5X5 image\n",
    "image = np.array([[4,5,4,4,4],\n",
    "         [4,5,4,4,4],\n",
    "         [4,5,4,4,4],\n",
    "         [4,5,4,4,4],\n",
    "         [4,5,4,4,4]])\n",
    "\n",
    "print(image)\n",
    "\n",
    "# image = np.random.randn(5,5,1)\n",
    "\n",
    "# print(image, image.shape)"
   ]
  },
  {
   "cell_type": "code",
   "execution_count": 27,
   "metadata": {},
   "outputs": [
    {
     "name": "stdout",
     "output_type": "stream",
     "text": [
      "[[3 1]\n",
      " [4 5]]\n"
     ]
    }
   ],
   "source": [
    "# 2X2 filter\n",
    "filter = np.array([[3,1],\n",
    "          [4,5]])\n",
    "\n",
    "print(filter)\n",
    "\n",
    "# filter = np.random.randn(2,2)\n",
    "\n",
    "# print(filter, filter.shape)"
   ]
  },
  {
   "cell_type": "code",
   "execution_count": 55,
   "metadata": {},
   "outputs": [
    {
     "data": {
      "text/plain": [
       "array([[58., 59., 52., 52.],\n",
       "       [58., 59., 52., 52.],\n",
       "       [58., 59., 52., 52.],\n",
       "       [58., 59., 52., 52.]])"
      ]
     },
     "execution_count": 55,
     "metadata": {},
     "output_type": "execute_result"
    }
   ],
   "source": [
    "# conv operation\n",
    "\n",
    "def conv(image, filter):\n",
    "    final_image_size = int(image.shape[0] - filter.shape[0] + 1)\n",
    "    # print(final_image_size, type(final_image_size))\n",
    "    final_image = np.zeros([final_image_size, final_image_size], dtype=float)\n",
    "    \n",
    "    for i in range(final_image_size):\n",
    "        # print(i)\n",
    "        for j in range(final_image_size):\n",
    "            # Apply the filter to the current position\n",
    "            for x in range(filter.shape[0]):\n",
    "                for y in range(filter.shape[1]):\n",
    "                    # print(final_image)\n",
    "                    if i+x < image.shape[0] and j+y < image.shape[1]:\n",
    "                        final_image[i][j] += image[i+x][j+y] * filter[x][y]\n",
    "            \n",
    "    return final_image\n",
    "\n",
    "conv(image, filter)"
   ]
  },
  {
   "cell_type": "code",
   "execution_count": 69,
   "metadata": {},
   "outputs": [
    {
     "data": {
      "text/plain": [
       "[4, 5, 4, 4, 4, 4, 5, 4, 4, 4, 4, 5, 4, 4, 4, 4, 5, 4, 4, 4, 4, 5, 4, 4, 4]"
      ]
     },
     "execution_count": 69,
     "metadata": {},
     "output_type": "execute_result"
    }
   ],
   "source": [
    "import time\n",
    "\n",
    "def flatten(image):\n",
    "    height = image.shape[0]\n",
    "    width = image.shape[1]\n",
    "\n",
    "    flat_array = []\n",
    "\n",
    "    flat_array = [0]*(height*width)\n",
    "    cnt = 0\n",
    "\n",
    "    for i in range(height):\n",
    "        for j in range(width):\n",
    "            flat_array[cnt] = image[i,j]\n",
    "            cnt += 1\n",
    "\n",
    "    return flat_array\n",
    "\n",
    "flatten(image)"
   ]
  },
  {
   "cell_type": "code",
   "execution_count": 75,
   "metadata": {},
   "outputs": [
    {
     "data": {
      "text/plain": [
       "Value(data=0.9403995243705735)"
      ]
     },
     "execution_count": 75,
     "metadata": {},
     "output_type": "execute_result"
    }
   ],
   "source": [
    "def CNN(input_image):\n",
    "    filter = np.array([[3,1],\n",
    "                        [4,5]])\n",
    "    \n",
    "    convoluted_image = conv(input_image, filter)\n",
    "    flattened_image = flatten(convoluted_image)\n",
    "    fc_model = MLP(len(flattened_image), [16, 16, 1])\n",
    "    outputs = fc_model(flattened_image)\n",
    "\n",
    "    return outputs\n",
    "\n",
    "\n",
    "CNN(image)"
   ]
  }
 ],
 "metadata": {
  "kernelspec": {
   "display_name": "venv",
   "language": "python",
   "name": "python3"
  },
  "language_info": {
   "codemirror_mode": {
    "name": "ipython",
    "version": 3
   },
   "file_extension": ".py",
   "mimetype": "text/x-python",
   "name": "python",
   "nbconvert_exporter": "python",
   "pygments_lexer": "ipython3",
   "version": "3.11.9"
  }
 },
 "nbformat": 4,
 "nbformat_minor": 2
}
