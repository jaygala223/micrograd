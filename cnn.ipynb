{
 "cells": [
  {
   "cell_type": "code",
   "execution_count": 1,
   "metadata": {},
   "outputs": [],
   "source": [
    "from engine import Value\n",
    "from mlp import MLP, Layer, Neuron\n",
    "import numpy as np\n",
    "import random"
   ]
  },
  {
   "cell_type": "code",
   "execution_count": 2,
   "metadata": {},
   "outputs": [
    {
     "name": "stdout",
     "output_type": "stream",
     "text": [
      "[[4, 5, 4, 4, 4], [4, 5, 4, 4, 4], [4, 5, 4, 4, 4], [4, 5, 4, 4, 4], [4, 5, 4, 4, 4]]\n"
     ]
    }
   ],
   "source": [
    "\n",
    "# 5X5 image\n",
    "image = [[4,5,4,4,4],\n",
    "         [4,5,4,4,4],\n",
    "         [4,5,4,4,4],\n",
    "         [4,5,4,4,4],\n",
    "         [4,5,4,4,4]]\n",
    "\n",
    "print(image)"
   ]
  },
  {
   "cell_type": "code",
   "execution_count": 3,
   "metadata": {},
   "outputs": [
    {
     "name": "stdout",
     "output_type": "stream",
     "text": [
      "[[3, 1], [4, 5]]\n"
     ]
    }
   ],
   "source": [
    "# 2X2 filter\n",
    "filter = [[3,1],\n",
    "          [4,5]]\n",
    "\n",
    "print(filter)"
   ]
  },
  {
   "cell_type": "code",
   "execution_count": 4,
   "metadata": {},
   "outputs": [
    {
     "data": {
      "text/plain": [
       "[4, 5, 4, 4, 4, 4, 5, 4, 4, 4, 4, 5, 4, 4, 4, 4, 5, 4, 4, 4, 4, 5, 4, 4, 4]"
      ]
     },
     "execution_count": 4,
     "metadata": {},
     "output_type": "execute_result"
    }
   ],
   "source": [
    "import time\n",
    "\n",
    "def flatten(image, image_size):\n",
    "    height = image_size\n",
    "    width = image_size\n",
    "\n",
    "    flat_array = []\n",
    "\n",
    "    flat_array = [0]*(height*width)\n",
    "    cnt = 0\n",
    "\n",
    "    for i in range(height):\n",
    "        for j in range(width):\n",
    "            flat_array[cnt] = image[i][j]\n",
    "            cnt += 1\n",
    "\n",
    "    return flat_array\n",
    "\n",
    "flatten(image, 5)"
   ]
  },
  {
   "cell_type": "code",
   "execution_count": 5,
   "metadata": {},
   "outputs": [],
   "source": [
    "def mse_loss(ypred, y_train):\n",
    "    return (ypred - y_train)**2"
   ]
  },
  {
   "cell_type": "code",
   "execution_count": 6,
   "metadata": {},
   "outputs": [
    {
     "data": {
      "text/plain": [
       "[[Value(data=9.0), Value(data=6.0)], [Value(data=7.0), Value(data=8.0)]]"
      ]
     },
     "execution_count": 6,
     "metadata": {},
     "output_type": "execute_result"
    }
   ],
   "source": [
    "class MaxPool2d:\n",
    "    def __init__(self, image_size, filter_size):\n",
    "        self.image_size = image_size\n",
    "        self.filter_size = filter_size\n",
    "    \n",
    "    def __call__(self, image):\n",
    "        max_items = []\n",
    "        final_image_size = self.image_size // 2\n",
    "        final_image =  [[Value(0.0) for x in range(final_image_size)] for y in range(final_image_size)]\n",
    "        \n",
    "        for i in range(0, self.image_size, self.filter_size):\n",
    "            for j in range(0, self.image_size, self.filter_size):\n",
    "                max_item = Value(-1e9)\n",
    "                for x in range(self.filter_size):\n",
    "                    for y in range(self.filter_size):\n",
    "                        max_item = max(Value(image[i+x][j+y]), max_item)\n",
    "                max_items.append(max_item)\n",
    "        \n",
    "        idx = 0\n",
    "        for a in range(final_image_size):\n",
    "            for b in range(final_image_size):\n",
    "                final_image[a][b] += max_items[idx]\n",
    "                idx += 1        \n",
    "        return final_image\n",
    "\n",
    "# 4X4 image\n",
    "image = [[4,6,4,3],\n",
    "         [9,7,6,5],\n",
    "         [1,7,8,2],\n",
    "         [7,5,3,1]]\n",
    "\n",
    "# image = [[Value(4),Value(6)],\n",
    "#          [Value(9),Value(7)],]\n",
    "\n",
    "max_pool = MaxPool2d(4,2)\n",
    "max_pool(image)"
   ]
  },
  {
   "cell_type": "code",
   "execution_count": 7,
   "metadata": {},
   "outputs": [],
   "source": [
    "class Conv2d:\n",
    "    def __init__(self, image_size, filter_size):\n",
    "        self.image_size = image_size\n",
    "        self.filter_size = filter_size\n",
    "        self.filter = [[Value(random.uniform(-1,1), label='conv') for _ in range(filter_size)] for _ in range(filter_size)]\n",
    "\n",
    "    def __call__(self, image):\n",
    "        final_image_size = int(self.image_size - self.filter_size + 1)\n",
    "        # print(final_image_size, type(final_image_size))\n",
    "        final_image = np.zeros([final_image_size, final_image_size])\n",
    "        final_image = [[Value(0.0) for x in range(final_image_size)] for y in range(final_image_size)] \n",
    "        \n",
    "        for i in range(final_image_size):\n",
    "            for j in range(final_image_size):\n",
    "                \n",
    "                for x in range(self.filter_size):\n",
    "                    for y in range(self.filter_size):\n",
    "\n",
    "                        if i+x < self.image_size and j+y < self.image_size:\n",
    "                            final_image[i][j] += (image[i+x][j+y] * self.filter[x][y])\n",
    "\n",
    "        return final_image\n",
    "    \n",
    "    def parameters(self):\n",
    "        # print(self.filter)\n",
    "        o = flatten(self.filter, self.filter_size)\n",
    "        # all_grads = [x.grad for x in o]\n",
    "        # print(all_grads)\n",
    "        return o\n",
    "\n",
    "# conv(image, 5, filter, 2)"
   ]
  },
  {
   "cell_type": "code",
   "execution_count": 8,
   "metadata": {},
   "outputs": [],
   "source": [
    "import math\n",
    "\n",
    "def softmax(logits):\n",
    "    outputs = []\n",
    "\n",
    "    denominator = Value(0)\n",
    "\n",
    "    for logit in logits:\n",
    "        denominator += logit.exp()\n",
    "\n",
    "    for logit in logits:\n",
    "        softmax_score = logit.exp() / denominator\n",
    "        softmax_score.label = 'softmax'\n",
    "        outputs.append(softmax_score)\n",
    "\n",
    "    # logits = outputs\n",
    "    \n",
    "    return outputs\n",
    "\n",
    "l = softmax([Value(data=0.8942415841754484), \n",
    "         Value(data=-0.7502373687945066), \n",
    "         Value(data=0.32914364144553077)]\n",
    ")"
   ]
  },
  {
   "cell_type": "code",
   "execution_count": 9,
   "metadata": {},
   "outputs": [],
   "source": [
    "def cross_entropy_loss(logits, true_labels):\n",
    "    \"\"\"\n",
    "    logits should be list of Value objects ... \n",
    "    assuming logits are prob values from softmax\n",
    "    \n",
    "    returns cross_entropy_loss as a Value object\n",
    "    \"\"\"\n",
    "    loss = Value(0)\n",
    "\n",
    "    for i in range(len(logits)):\n",
    "            loss += -1 * logits[i].log() * true_labels[i]\n",
    "\n",
    "    return loss\n",
    "\n",
    "l = cross_entropy_loss(logits=[Value(0.1),Value(0.2),Value(0.7)], true_labels=[0,0,1])"
   ]
  },
  {
   "cell_type": "code",
   "execution_count": 84,
   "metadata": {},
   "outputs": [],
   "source": [
    "import torch.nn as nn\n",
    "import torch.nn.functional as F\n",
    "\n",
    "# net = Net()\n",
    "\n",
    "class CNN:\n",
    "    def __init__(self, output_layers):\n",
    "        self.conv1 = Conv2d(7, 2)\n",
    "        self.max_pool = MaxPool2d(6,2)\n",
    "        self.fc = MLP(9, [6, 6, output_layers])\n",
    "    \n",
    "    def __call__(self, input_image):\n",
    "        outputs = self.conv1(input_image)\n",
    "        outputs = self.max_pool(outputs)\n",
    "        # print(outputs)\n",
    "        outputs = flatten(outputs, 2)\n",
    "\n",
    "        t = []\n",
    "        for i in outputs:\n",
    "            t.append(i.data)\n",
    "        \n",
    "        outputs = self.fc(t)\n",
    "        return outputs\n",
    "    \n",
    "    def parameters(self):\n",
    "        # print(self.conv1.parameters())\n",
    "        return self.fc.parameters() + self.conv1.parameters()"
   ]
  },
  {
   "cell_type": "code",
   "execution_count": 111,
   "metadata": {},
   "outputs": [
    {
     "name": "stdout",
     "output_type": "stream",
     "text": [
      "Epoch 0, Loss: 1.3772785062481057\n",
      "Epoch 1, Loss: 1.4094608856648312\n",
      "Epoch 2, Loss: 1.4425490693831982\n",
      "Epoch 3, Loss: 1.4761301415420849\n",
      "Epoch 4, Loss: 1.5098402968738631\n",
      "Epoch 5, Loss: 1.5433704010732852\n",
      "Epoch 6, Loss: 1.5764599868982652\n",
      "Epoch 7, Loss: 1.6088875366327573\n",
      "Epoch 8, Loss: 1.6404624229351394\n",
      "Epoch 9, Loss: 1.671020551527134\n"
     ]
    }
   ],
   "source": [
    "image = [[1,0,1,1,0,1,1],\n",
    "         [1,0,0,1,0,1,1],\n",
    "         [1,0,1,1,0,1,1],\n",
    "         [1,0,0,1,0,1,1],\n",
    "         [1,0,1,1,0,1,1],\n",
    "         [1,0,0,1,0,1,1],\n",
    "         [1,0,1,1,0,1,1]]\n",
    "\n",
    "labels = [1, 0, 0]\n",
    "label = 1\n",
    "\n",
    "cnn_model = CNN(3)\n",
    "\n",
    "for i in range(10):\n",
    "    \n",
    "    #forward\n",
    "    outputs = cnn_model(image)\n",
    "    outputs = softmax(outputs)\n",
    "\n",
    "    # loss = mse_loss(outputs, label)\n",
    "    loss = cross_entropy_loss(outputs, labels)\n",
    "\n",
    "    # zero_grad\n",
    "    for p in cnn_model.parameters():\n",
    "        p.grad = 0.0\n",
    "\n",
    "    loss.backward()\n",
    "\n",
    "    # update\n",
    "    for p in cnn_model.parameters():\n",
    "        p.data += -0.01 * p.grad\n",
    "\n",
    "    if i%1 == 0:\n",
    "        print(f\"Epoch {i}, Loss: {loss.data}\")"
   ]
  }
 ],
 "metadata": {
  "kernelspec": {
   "display_name": "venv",
   "language": "python",
   "name": "python3"
  },
  "language_info": {
   "codemirror_mode": {
    "name": "ipython",
    "version": 3
   },
   "file_extension": ".py",
   "mimetype": "text/x-python",
   "name": "python",
   "nbconvert_exporter": "python",
   "pygments_lexer": "ipython3",
   "version": "3.11.9"
  }
 },
 "nbformat": 4,
 "nbformat_minor": 2
}
